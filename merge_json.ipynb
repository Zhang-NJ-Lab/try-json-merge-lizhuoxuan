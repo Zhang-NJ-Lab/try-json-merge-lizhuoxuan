{
 "cells": [
  {
   "cell_type": "code",
   "execution_count": 16,
   "id": "d6d09b40-9e12-494c-9bdb-eddc4bdbb239",
   "metadata": {},
   "outputs": [],
   "source": [
    "#-*-coding:utf-8-*-\n",
    "import os\n",
    "import pandas as pd\n",
    "import glob"
   ]
  },
  {
   "cell_type": "code",
   "execution_count": 17,
   "id": "e9c40376-a20b-4779-9cc8-cdbdd3250c98",
   "metadata": {},
   "outputs": [
    {
     "name": "stdout",
     "output_type": "stream",
     "text": [
      "共发现100个json文件\n",
      "正在处理............\n",
      "合并完毕！\n"
     ]
    }
   ],
   "source": [
    "json_list = glob.glob('*.json') #查看同文件夹下的json文件数\n",
    "print(u'共发现%s个json文件'% len(json_list))\n",
    "print(u'正在处理............')\n",
    "for i in json_list: #循环读取同文件夹下的csv文件\n",
    "    fr = open(i,'rb').read()\n",
    "    with open('result.csv','ab') as f: #将结果保存为result.csv\n",
    "        f.write(fr)\n",
    "print('合并完毕！')"
   ]
  },
  {
   "cell_type": "code",
   "execution_count": null,
   "id": "3016e1d0-1d56-4eab-9a7a-1aaac11cbb1e",
   "metadata": {},
   "outputs": [],
   "source": []
  },
  {
   "cell_type": "code",
   "execution_count": null,
   "id": "09616f3c-0c75-4623-89e3-b1e2aa53c80f",
   "metadata": {},
   "outputs": [],
   "source": []
  }
 ],
 "metadata": {
  "kernelspec": {
   "display_name": "NJmatML",
   "language": "python",
   "name": "njmatml"
  },
  "language_info": {
   "codemirror_mode": {
    "name": "ipython",
    "version": 3
   },
   "file_extension": ".py",
   "mimetype": "text/x-python",
   "name": "python",
   "nbconvert_exporter": "python",
   "pygments_lexer": "ipython3",
   "version": "3.8.8"
  }
 },
 "nbformat": 4,
 "nbformat_minor": 5
}
